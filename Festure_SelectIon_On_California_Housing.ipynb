{
 "cells": [
  {
   "cell_type": "code",
   "execution_count": 8,
   "id": "2c96874f",
   "metadata": {},
   "outputs": [],
   "source": [
    "import numpy as np\n",
    "import matplotlib.pyplot as plt\n",
    "\n",
    "from sklearn.model_selection import train_test_split\n",
    "from sklearn.preprocessing import StandardScaler\n",
    "from sklearn.linear_model import LinearRegression, Lasso\n",
    "from sklearn.datasets import fetch_california_housing\n",
    "from sklearn.metrics import r2_score, mean_squared_error"
   ]
  },
  {
   "cell_type": "code",
   "execution_count": 6,
   "id": "df28be2e",
   "metadata": {},
   "outputs": [],
   "source": [
    "#Loading Data\n",
    "\n",
    "dataset = fetch_california_housing()"
   ]
  },
  {
   "cell_type": "code",
   "execution_count": 9,
   "id": "1ae061e1",
   "metadata": {},
   "outputs": [
    {
     "name": "stdout",
     "output_type": "stream",
     "text": [
      ".. _california_housing_dataset:\n",
      "\n",
      "California Housing dataset\n",
      "--------------------------\n",
      "\n",
      "**Data Set Characteristics:**\n",
      "\n",
      "    :Number of Instances: 20640\n",
      "\n",
      "    :Number of Attributes: 8 numeric, predictive attributes and the target\n",
      "\n",
      "    :Attribute Information:\n",
      "        - MedInc        median income in block group\n",
      "        - HouseAge      median house age in block group\n",
      "        - AveRooms      average number of rooms per household\n",
      "        - AveBedrms     average number of bedrooms per household\n",
      "        - Population    block group population\n",
      "        - AveOccup      average number of household members\n",
      "        - Latitude      block group latitude\n",
      "        - Longitude     block group longitude\n",
      "\n",
      "    :Missing Attribute Values: None\n",
      "\n",
      "This dataset was obtained from the StatLib repository.\n",
      "https://www.dcc.fc.up.pt/~ltorgo/Regression/cal_housing.html\n",
      "\n",
      "The target variable is the median house value for California districts,\n",
      "expressed in hundreds of thousands of dollars ($100,000).\n",
      "\n",
      "This dataset was derived from the 1990 U.S. census, using one row per census\n",
      "block group. A block group is the smallest geographical unit for which the U.S.\n",
      "Census Bureau publishes sample data (a block group typically has a population\n",
      "of 600 to 3,000 people).\n",
      "\n",
      "An household is a group of people residing within a home. Since the average\n",
      "number of rooms and bedrooms in this dataset are provided per household, these\n",
      "columns may take surpinsingly large values for block groups with few households\n",
      "and many empty houses, such as vacation resorts.\n",
      "\n",
      "It can be downloaded/loaded using the\n",
      ":func:`sklearn.datasets.fetch_california_housing` function.\n",
      "\n",
      ".. topic:: References\n",
      "\n",
      "    - Pace, R. Kelley and Ronald Barry, Sparse Spatial Autoregressions,\n",
      "      Statistics and Probability Letters, 33 (1997) 291-297\n",
      "\n"
     ]
    }
   ],
   "source": [
    "print(dataset.DESCR)"
   ]
  },
  {
   "cell_type": "markdown",
   "id": "905c76d4",
   "metadata": {},
   "source": [
    "# Vanilla Model"
   ]
  },
  {
   "cell_type": "code",
   "execution_count": 12,
   "id": "cbc78a81",
   "metadata": {},
   "outputs": [
    {
     "name": "stdout",
     "output_type": "stream",
     "text": [
      "R2_Score:  0.603871480268971\n",
      "Mean_Sqaure_Error:  0.5351889662653285\n"
     ]
    }
   ],
   "source": [
    "\n",
    "x = dataset['data']\n",
    "y = dataset['target']\n",
    "feature_names = dataset['feature_names']\n",
    "\n",
    "# Preporocessing\n",
    "scaler=StandardScaler()\n",
    "x=scaler.fit_transform(x)\n",
    "\n",
    "x_train, x_test, y_train, y_test = train_test_split(x, y, test_size=0.20)\n",
    "     \n",
    "#Model Dev\n",
    "\n",
    "model = LinearRegression()\n",
    "model.fit(x_train, y_train)\n",
    "y_pred = model.predict(x_test)\n",
    "\n",
    "#Evaluaion\n",
    "mse_error = mean_squared_error(y_test, y_pred)\n",
    "r2_s = r2_score(y_test, y_pred)\n",
    "print(\"R2_Score: \",r2_s)\n",
    "print(\"Mean_Sqaure_Error: \",mse_error)"
   ]
  },
  {
   "cell_type": "markdown",
   "id": "0c114737",
   "metadata": {},
   "source": [
    "### Filter Based --> Using SelectKBest"
   ]
  },
  {
   "cell_type": "code",
   "execution_count": 13,
   "id": "61008993",
   "metadata": {},
   "outputs": [],
   "source": [
    "from sklearn.feature_selection import mutual_info_regression, SelectKBest"
   ]
  },
  {
   "cell_type": "code",
   "execution_count": 14,
   "id": "02f750f4",
   "metadata": {},
   "outputs": [
    {
     "data": {
      "text/plain": [
       "(20640, 8)"
      ]
     },
     "execution_count": 14,
     "metadata": {},
     "output_type": "execute_result"
    }
   ],
   "source": [
    "x.shape"
   ]
  },
  {
   "cell_type": "code",
   "execution_count": 15,
   "id": "b7d4b5ff",
   "metadata": {},
   "outputs": [
    {
     "data": {
      "image/png": "[encoded data removed]",
      "text/plain": [
       "<Figure size 1000x600 with 1 Axes>"
      ]
     },
     "metadata": {},
     "output_type": "display_data"
    }
   ],
   "source": [
    "mi = mutual_info_regression(x, y)\n",
    "\n",
    "# Visualise Feature Selection\n",
    "plt.figure(figsize=(10, 6))\n",
    "plt.bar(feature_names, mi)\n",
    "plt.show()"
   ]
  },
  {
   "cell_type": "code",
   "execution_count": 34,
   "id": "2f4800dd",
   "metadata": {},
   "outputs": [
    {
     "name": "stdout",
     "output_type": "stream",
     "text": [
      "(20640, 5)\n"
     ]
    }
   ],
   "source": [
    "#Implementing SelectKBest\n",
    "\n",
    "x_new = SelectKBest(mutual_info_regression, k=5).fit_transform(x, y)\n",
    "print(x_new.shape)"
   ]
  },
  {
   "cell_type": "code",
   "execution_count": 35,
   "id": "724bf9c8",
   "metadata": {},
   "outputs": [
    {
     "name": "stdout",
     "output_type": "stream",
     "text": [
      "R2_Score:  0.5891593510680287\n",
      "Mean_Sqaure_Error:  0.5625453778285613\n"
     ]
    }
   ],
   "source": [
    "# Train and Test Data Split\n",
    "x_train, x_test, y_train, y_test = train_test_split(x_new, y, test_size=0.2)\n",
    "\n",
    "#Model Dev\n",
    "model = LinearRegression()\n",
    "model.fit(x_train, y_train)\n",
    "y_pred = model.predict(x_test)\n",
    "\n",
    "\n",
    "#Evaluaion\n",
    "mse_error_selectk = mean_squared_error(y_test, y_pred)\n",
    "r2_s_selectk = r2_score(y_test, y_pred)\n",
    "print(\"R2_Score: \",r2_s_selectk)\n",
    "print(\"Mean_Sqaure_Error: \",mse_error_selectk)"
   ]
  },
  {
   "cell_type": "markdown",
   "id": "f16e1a1c",
   "metadata": {},
   "source": [
    "# # Wrapper Base --> RFE"
   ]
  },
  {
   "cell_type": "code",
   "execution_count": 27,
   "id": "242c5186",
   "metadata": {},
   "outputs": [
    {
     "name": "stdout",
     "output_type": "stream",
     "text": [
      "[4 3 2 1 1 1 1 1]\n"
     ]
    }
   ],
   "source": [
    "from sklearn.feature_selection import RFE\n",
    "from sklearn.linear_model import Lasso\n",
    "\n",
    "estimator = Lasso()\n",
    "selector = RFE(estimator, n_features_to_select=5, step=1).fit(x, y)\n",
    "print(selector.ranking_, )"
   ]
  },
  {
   "cell_type": "code",
   "execution_count": 29,
   "id": "64659ef2",
   "metadata": {},
   "outputs": [
    {
     "name": "stdout",
     "output_type": "stream",
     "text": [
      "(20640, 5)\n"
     ]
    }
   ],
   "source": [
    "x_new = selector.transform(x)\n",
    "print(x_new.shape)"
   ]
  },
  {
   "cell_type": "code",
   "execution_count": 30,
   "id": "0b3bbf65",
   "metadata": {},
   "outputs": [
    {
     "name": "stdout",
     "output_type": "stream",
     "text": [
      "R2_Score:  0.24461550696203305\n",
      "Mean_Sqaure_Error:  0.9594610607671065\n"
     ]
    }
   ],
   "source": [
    "#train & test\n",
    "x_train, x_test, y_train, y_test = train_test_split(x_new, y, test_size=0.2)\n",
    "\n",
    "#model dev\n",
    "model = LinearRegression()\n",
    "model.fit(x_train, y_train)\n",
    "y_pred = model.predict(x_test)\n",
    "\n",
    "#evaluation\n",
    "mse_error_rfe = mean_squared_error(y_test, y_pred)\n",
    "r2_s_rfe = r2_score(y_test, y_pred)\n",
    "print(\"R2_Score: \",r2_s_rfe)\n",
    "print(\"Mean_Sqaure_Error: \",mse_error_rfe)\n"
   ]
  },
  {
   "cell_type": "markdown",
   "id": "920c8e49",
   "metadata": {},
   "source": [
    "# #Principal component analysis (PCA)"
   ]
  },
  {
   "cell_type": "code",
   "execution_count": 31,
   "id": "40dda14c",
   "metadata": {},
   "outputs": [
    {
     "name": "stdout",
     "output_type": "stream",
     "text": [
      "(20640, 8)\n",
      "(20640, 4)\n"
     ]
    }
   ],
   "source": [
    "from sklearn.decomposition import PCA\n",
    "print(x.shape)\n",
    "x_new = PCA(n_components=4, svd_solver='full').fit_transform(x)\n",
    "print(x_new.shape)"
   ]
  },
  {
   "cell_type": "code",
   "execution_count": 33,
   "id": "df906480",
   "metadata": {},
   "outputs": [
    {
     "name": "stdout",
     "output_type": "stream",
     "text": [
      "R2_Score:  0.45403369715306907\n",
      "Mean_Sqaure_Error:  0.6974436907806547\n"
     ]
    }
   ],
   "source": [
    "#train & test\n",
    "x_train, x_test, y_train, y_test = train_test_split(x_new, y, test_size=0.2)\n",
    "\n",
    "#Model Dev\n",
    "model = LinearRegression()\n",
    "model.fit(x_train, y_train)\n",
    "y_pred = model.predict(x_test)\n",
    "\n",
    "#Evaluation\n",
    "mse_error_pca = mean_squared_error(y_test, y_pred)\n",
    "r2_s_pca = r2_score(y_test, y_pred)\n",
    "print(\"R2_Score: \",r2_s_pca)\n",
    "print(\"Mean_Sqaure_Error: \",mse_error_pca)"
   ]
  },
  {
   "cell_type": "code",
   "execution_count": null,
   "id": "14491eaa",
   "metadata": {},
   "outputs": [],
   "source": []
  }
 ],
 "metadata": {
  "kernelspec": {
   "display_name": "Python 3 (ipykernel)",
   "language": "python",
   "name": "python3"
  },
  "language_info": {
   "codemirror_mode": {
    "name": "ipython",
    "version": 3
   },
   "file_extension": ".py",
   "mimetype": "text/x-python",
   "name": "python",
   "nbconvert_exporter": "python",
   "pygments_lexer": "ipython3",
   "version": "3.10.9"
  }
 },
 "nbformat": 4,
 "nbformat_minor": 5
}
